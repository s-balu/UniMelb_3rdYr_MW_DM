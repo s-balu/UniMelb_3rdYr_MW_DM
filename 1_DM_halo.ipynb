{
 "cells": [
  {
   "cell_type": "code",
   "execution_count": 1,
   "metadata": {},
   "outputs": [],
   "source": [
    "import numpy as np\n",
    "import h5py as h5\n",
    "import matplotlib.pyplot as plt"
   ]
  },
  {
   "cell_type": "code",
   "execution_count": 2,
   "metadata": {},
   "outputs": [],
   "source": [
    "from src.nbody.main import NBodySimulation\n",
    "import src.nbody.plot_utils as pu"
   ]
  },
  {
   "cell_type": "code",
   "execution_count": 3,
   "metadata": {},
   "outputs": [],
   "source": [
    "ic_file = \"./ics/sun.hdf5\"\n",
    "# ic_file = \"./ics/DM_halo.hdf5\""
   ]
  },
  {
   "cell_type": "code",
   "execution_count": 4,
   "metadata": {},
   "outputs": [
    {
     "name": "stdout",
     "output_type": "stream",
     "text": [
      "['Masses', 'Positions', 'Velocities']\n"
     ]
    }
   ],
   "source": [
    "with h5.File(ic_file, \"r\") as hf:\n",
    "    print(list(hf[\"Bodies\"]))"
   ]
  },
  {
   "cell_type": "code",
   "execution_count": 5,
   "metadata": {},
   "outputs": [],
   "source": [
    "path_ics = ic_file\n",
    "output_folder = \"./outputs/\""
   ]
  },
  {
   "cell_type": "code",
   "execution_count": 6,
   "metadata": {},
   "outputs": [],
   "source": [
    "# # N = 2e4  # Number of particles\n",
    "# # N = int(N)\n",
    "\n",
    "# # R_s = 20.0  # Scale radius of the NFW profile (kpc)\n",
    "# # R_d = R_s / 4.5  # Scale radius of the disk (kpc)\n",
    "# rho_0 = 5932371.0  # Central density of the NFW profile (Msun/kpc^3)\n",
    "# # pos_std = 1  # Noise std for the positions\n",
    "# vel_std = 1  # Noise std for the velocities\n",
    "# total_mass = 5e10  # Total mass of the galaxy (Msun)\n",
    "G = 4.30091e-6"
   ]
  },
  {
   "cell_type": "code",
   "execution_count": 7,
   "metadata": {},
   "outputs": [
    {
     "name": "stdout",
     "output_type": "stream",
     "text": [
      "Estimated time: 00h 00m 07s\n",
      "Mean time per step: 5.56e-03 s\n",
      "99.93%\n",
      "Elapsed time: 0.71 s\n"
     ]
    }
   ],
   "source": [
    "path_output = output_folder + 'output.hdf5'\n",
    "\n",
    "e = 0.01\n",
    "T = 0.7\n",
    "dt = 5e-4\n",
    "num_snapshots = 600\n",
    "\n",
    "Sim = NBodySimulation(path_ics, path_output)\n",
    "# Sim.R_s = R_s\n",
    "# Sim.rho_0 = rho_0\n",
    "\n",
    "Sim.set_time(T, dt, snapshots=num_snapshots)\n",
    "Sim.set_time_NFW_off(0.4)  # Turn off  the NFW profile at approx t=1.25\n",
    "\n",
    "# Sim.set_integrator(\"RK4\")\n",
    "Sim.set_integrator(\"Euler\")\n",
    "# Sim.set_integrator(\"Symplectic\")\n",
    "\n",
    "Sim.estimate_runtime(3)  # We get a runtime estimation for 3 snapshots\n",
    "Sim.run_simulation(e=e, G=G)"
   ]
  },
  {
   "cell_type": "code",
   "execution_count": 8,
   "metadata": {},
   "outputs": [],
   "source": [
    "# path_output = sim_folder + 'output.hdf5'\n",
    "\n",
    "# e = 0.01\n",
    "# T = 2.5\n",
    "# dt = 5e-4\n",
    "# num_snapshots = 600\n",
    "\n",
    "# Sim = NBodySimulation(path_ics, path_output)\n",
    "# Sim.R_s = R_s\n",
    "# Sim.rho_0 = rho_0\n",
    "\n",
    "# Sim.set_time(T, dt, snapshots=num_snapshots)\n",
    "# Sim.set_time_NFW_off(1.25)  # Turn off the NFW profile at approx t=1.25\n",
    "# Sim.estimate_runtime(3)  # We get a runtime estimation for 3 snapshotsa"
   ]
  },
  {
   "cell_type": "code",
   "execution_count": 9,
   "metadata": {},
   "outputs": [],
   "source": [
    "# Sim.run_simulation(e=e)"
   ]
  },
  {
   "cell_type": "code",
   "execution_count": null,
   "metadata": {},
   "outputs": [],
   "source": []
  },
  {
   "cell_type": "code",
   "execution_count": 10,
   "metadata": {},
   "outputs": [],
   "source": [
    "# pu.make_frames(path_output, \n",
    "#                marker_size=0.1,\n",
    "#                   )"
   ]
  },
  {
   "cell_type": "code",
   "execution_count": 11,
   "metadata": {},
   "outputs": [],
   "source": [
    "# import cv2\n",
    "# import os\n",
    "\n",
    "# def create_video_from_frames(frame_folder, output_video_path, frame_rate=30, resolution=None):\n",
    "#     # Get a list of all files in the folder\n",
    "#     files = [f for f in os.listdir(frame_folder) if os.path.isfile(os.path.join(frame_folder, f))]\n",
    "#     # Sort files to ensure the correct order\n",
    "#     files.sort()\n",
    "    \n",
    "#     # Read the first image to get the dimensions\n",
    "#     first_frame = cv2.imread(os.path.join(frame_folder, files[0]))\n",
    "#     height, width, layers = first_frame.shape\n",
    "    \n",
    "#     if resolution:\n",
    "#         width, height = resolution\n",
    "\n",
    "#     # Define the codec and create VideoWriter object\n",
    "#     fourcc = cv2.VideoWriter_fourcc(*'mp4v')\n",
    "#     video = cv2.VideoWriter(output_video_path, fourcc, frame_rate, (width, height))\n",
    "\n",
    "#     for file in files:\n",
    "#         frame_path = os.path.join(frame_folder, file)\n",
    "#         frame = cv2.imread(frame_path)\n",
    "\n",
    "#         if resolution:\n",
    "#             frame = cv2.resize(frame, (width, height))\n",
    "\n",
    "#         video.write(frame)\n",
    "\n",
    "#     video.release()\n",
    "#     print(f\"Video saved to {output_video_path}\")\n",
    "\n"
   ]
  },
  {
   "cell_type": "code",
   "execution_count": 12,
   "metadata": {},
   "outputs": [],
   "source": [
    "# # Example usage\n",
    "# frame_folder = 'outputs/frames/'\n",
    "# output_video_path = 'outputs/output_video.mp4'\n",
    "# create_video_from_frames(frame_folder, output_video_path, frame_rate=30, resolution=(400, 400))"
   ]
  },
  {
   "cell_type": "code",
   "execution_count": 13,
   "metadata": {},
   "outputs": [],
   "source": [
    "POS_R, VEL_R, MASS, TIME = Sim.get_output()\n",
    "\n",
    "# POS_R = POS_R.reshape(600,3)\n",
    "# VEL_R = VEL_R.reshape(600,3)"
   ]
  },
  {
   "cell_type": "code",
   "execution_count": 14,
   "metadata": {},
   "outputs": [
    {
     "data": {
      "text/plain": [
       "(600, 1, 3)"
      ]
     },
     "execution_count": 14,
     "metadata": {},
     "output_type": "execute_result"
    }
   ],
   "source": [
    "VEL_R.shape"
   ]
  },
  {
   "cell_type": "code",
   "execution_count": 15,
   "metadata": {},
   "outputs": [],
   "source": [
    "# fig, ax = plt.subplots()\n",
    "# ax.plot(POS_R[:,0], POS_R[:,1])\n",
    "# ax.scatter(0, 0, facecolors='none', edgecolors='black', s=80)\n",
    "# ax.scatter(0, 0, marker=\"*\", edgecolors='black', s=35)\n",
    "# ax.set_aspect(\"equal\")"
   ]
  },
  {
   "cell_type": "code",
   "execution_count": 16,
   "metadata": {},
   "outputs": [],
   "source": [
    "# r = np.sqrt(POS_R[:,0]**2 + POS_R[:,1]**2)\n",
    "# fig, ax = plt.subplots()\n",
    "# ax.plot(TIME, r)"
   ]
  },
  {
   "cell_type": "code",
   "execution_count": 17,
   "metadata": {},
   "outputs": [],
   "source": [
    "# r = np.sqrt(VEL_R[:,0]**2 + VEL_R[:,1]**2)\n",
    "# fig, ax = plt.subplots()\n",
    "# ax.plot(TIME, r)"
   ]
  },
  {
   "cell_type": "code",
   "execution_count": 18,
   "metadata": {},
   "outputs": [
    {
     "data": {
      "image/png": "[encoded data removed]",
      "text/plain": [
       "<Figure size 1000x600 with 1 Axes>"
      ]
     },
     "metadata": {},
     "output_type": "display_data"
    }
   ],
   "source": [
    "from numba import njit, prange\n",
    "\n",
    "# Conversion factors\n",
    "# kpc_to_m = np.float64(3.0857e19)  # 1 kpc = 3.0857e19 meters\n",
    "# kmps_to_mps = 1e3     # 1 km/s = 1e3 meters/second\n",
    "# Msun_to_kg = np.float64(1.9885e30)  # 1 Solar Mass = 1.9885e30 kg\n",
    "\n",
    "m=MASS[0] #* Msun_to_kg\n",
    "\n",
    "G = 4.302e-6\n",
    "\n",
    "# Convert G from original units to SI units\n",
    "# G_SI = np.float64(6.67430e-11)  # m^3 kg^-1 s^-2\n",
    "\n",
    "Gm2 = np.float64(G * m**2)  # Precompute G * m^2\n",
    "\n",
    "# POS_R = POS_R * kpc_to_m\n",
    "# VEL_R = VEL_R * kmps_to_mps\n",
    "\n",
    "# Calculate the kinetic energy T(t)\n",
    "vel_squared = np.sum(VEL_R**2, axis=2)  # v_i^2 for each particle\n",
    "T_t = 0.5 * m * np.sum(vel_squared, axis=1)  # Sum over all particles\n",
    "\n",
    "\n",
    "@njit(parallel=True, fastmath=True, cache=False)\n",
    "def calculate_potential_energy(positions, Gm2):\n",
    "    num_timesteps = positions.shape[0]\n",
    "    num_particles = positions.shape[1]\n",
    "    U_t = np.zeros(num_timesteps)\n",
    "    \n",
    "    for t in prange(num_timesteps):\n",
    "        U = 0.0\n",
    "        for i in range(num_particles):\n",
    "            for j in range(i + 1, num_particles):\n",
    "                dx = positions[t, i, 0] - positions[t, j, 0]\n",
    "                dy = positions[t, i, 1] - positions[t, j, 1]\n",
    "                dz = positions[t, i, 2] - positions[t, j, 2]\n",
    "                r_ij = np.sqrt(dx * dx + dy * dy + dz * dz)  # Manually compute distance\n",
    "                if r_ij > 0:  # Avoid division by zero\n",
    "                    U -= Gm2 / r_ij\n",
    "        U_t[t] = U\n",
    "        \n",
    "    return U_t\n",
    "\n",
    "# Potential energy calculation using Numba\n",
    "U_t = calculate_potential_energy(POS_R, Gm2)\n",
    "\n",
    "# Calculate the virial quantity 2T + U\n",
    "virial_quantity = (2 * T_t) + np.abs(U_t)\n",
    "\n",
    "# Plotting the result\n",
    "plt.figure(figsize=(10, 6))\n",
    "plt.plot(virial_quantity, label=r\"$2T + U$\", color='b')\n",
    "# plt.axhline(1, color='r', linestyle='--', label=\"Equilibrium Line\")\n",
    "plt.xlabel(\"Time Step\")\n",
    "plt.ylabel(r\"$2T / U$\")\n",
    "# plt.title(\"Virial Theorem Verification\")\n",
    "plt.legend()\n",
    "plt.grid(True)\n",
    "plt.show()"
   ]
  },
  {
   "cell_type": "code",
   "execution_count": 19,
   "metadata": {},
   "outputs": [
    {
     "data": {
      "text/plain": [
       "(1, 3)"
      ]
     },
     "execution_count": 19,
     "metadata": {},
     "output_type": "execute_result"
    }
   ],
   "source": [
    "POS_R[-1,:,:].shape"
   ]
  },
  {
   "cell_type": "code",
   "execution_count": 20,
   "metadata": {},
   "outputs": [],
   "source": [
    "POS_R = POS_R[-1,:,:]\n",
    "\n",
    "VEL_R = VEL_R[-1,:,:]\n"
   ]
  },
  {
   "cell_type": "code",
   "execution_count": 21,
   "metadata": {},
   "outputs": [
    {
     "ename": "NameError",
     "evalue": "name 'x' is not defined",
     "output_type": "error",
     "traceback": [
      "\u001b[0;31m---------------------------------------------------------------------------\u001b[0m",
      "\u001b[0;31mNameError\u001b[0m                                 Traceback (most recent call last)",
      "Cell \u001b[0;32mIn[21], line 1\u001b[0m\n\u001b[0;32m----> 1\u001b[0m counts, rbins \u001b[38;5;241m=\u001b[39m np\u001b[38;5;241m.\u001b[39mhistogram(np\u001b[38;5;241m.\u001b[39msqrt(\u001b[43mx\u001b[49m\u001b[38;5;241m*\u001b[39mx \u001b[38;5;241m+\u001b[39m y\u001b[38;5;241m*\u001b[39my), bins\u001b[38;5;241m=\u001b[39m\u001b[38;5;241m100\u001b[39m)\n\u001b[1;32m      2\u001b[0m c, r \u001b[38;5;241m=\u001b[39m np\u001b[38;5;241m.\u001b[39mhistogram(np\u001b[38;5;241m.\u001b[39msqrt(x\u001b[38;5;241m*\u001b[39mx \u001b[38;5;241m+\u001b[39m y\u001b[38;5;241m*\u001b[39my), bins\u001b[38;5;241m=\u001b[39m\u001b[38;5;241m100\u001b[39m)\n",
      "\u001b[0;31mNameError\u001b[0m: name 'x' is not defined"
     ]
    }
   ],
   "source": [
    "counts, rbins = np.histogram(np.sqrt(x*x + y*y), bins=100)\n",
    "c, r = np.histogram(np.sqrt(x*x + y*y), bins=100)"
   ]
  },
  {
   "cell_type": "code",
   "execution_count": null,
   "metadata": {},
   "outputs": [],
   "source": [
    "plt.plot(0.5*(r[1:]+r[:-1]),c)\n",
    "# plt.xscale(\"log\")\n",
    "plt.xlim(0,15)"
   ]
  },
  {
   "cell_type": "code",
   "execution_count": null,
   "metadata": {},
   "outputs": [],
   "source": [
    "# Calculate radial distances from the center (assuming center at origin)\n",
    "r = np.sqrt(np.sum(POS_R**2, axis=1))  # shape (10000,)\n",
    "\n",
    "# Calculate circular (tangential) velocities\n",
    "v_circ = np.sqrt(np.sum(VEL_R**2, axis=1))  # shape (10000,)\n",
    "\n",
    "# Bin the radial distances\n",
    "radial_bins = np.linspace(0, np.max(r), 100)  # 50 bins from 0 to max radial distance\n",
    "radial_bin_centers = 0.5 * (radial_bins[:-1] + radial_bins[1:])\n",
    "v_circ_avg = np.zeros_like(radial_bin_centers)\n",
    "\n",
    "# Calculate average circular velocity in each radial bin\n",
    "for i in range(len(radial_bin_centers)):\n",
    "    in_bin = (r >= radial_bins[i]) & (r < radial_bins[i+1])\n",
    "    v_circ_avg[i] = np.mean(v_circ[in_bin])\n",
    "\n",
    "# Plot the rotation curve\n",
    "plt.figure(figsize=(10, 6))\n",
    "plt.plot(radial_bin_centers, v_circ_avg, 'o', color='blue')  # converting to kpc and km/s for plot\n",
    "plt.xlim(0,50)\n",
    "plt.xlabel('Radial Distance (kpc)')\n",
    "plt.ylabel('Circular Velocity (km/s)')\n",
    "plt.title('Rotation Curve')\n",
    "plt.grid(True)\n",
    "plt.show()"
   ]
  },
  {
   "cell_type": "code",
   "execution_count": null,
   "metadata": {},
   "outputs": [],
   "source": []
  }
 ],
 "metadata": {
  "kernelspec": {
   "display_name": "Python 3",
   "language": "python",
   "name": "python3"
  },
  "language_info": {
   "codemirror_mode": {
    "name": "ipython",
    "version": 3
   },
   "file_extension": ".py",
   "mimetype": "text/x-python",
   "name": "python",
   "nbconvert_exporter": "python",
   "pygments_lexer": "ipython3",
   "version": "3.12.4"
  }
 },
 "nbformat": 4,
 "nbformat_minor": 2
}
